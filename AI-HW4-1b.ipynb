{
  "cells": [
    {
      "cell_type": "markdown",
      "metadata": {
        "id": "view-in-github",
        "colab_type": "text"
      },
      "source": [
        "<a href=\"https://colab.research.google.com/github/matthewplk/AI-HW4/blob/main/AI-HW4-1b.ipynb\" target=\"_parent\"><img src=\"https://colab.research.google.com/assets/colab-badge.svg\" alt=\"Open In Colab\"/></a>"
      ]
    },
    {
      "cell_type": "markdown",
      "metadata": {
        "id": "xcRVUziqz7hB"
      },
      "source": [
        "# Assignment 4\n",
        "\n",
        "This is an basecode for assignment 4 of Artificial Intelligence class (CSCE-4613), Spring 2023\n"
      ]
    },
    {
      "cell_type": "code",
      "execution_count": 2,
      "metadata": {
        "id": "Ih72pU-4h0BT"
      },
      "outputs": [],
      "source": [
        "import torch\n",
        "import torch.nn as nn\n",
        "import torchvision\n",
        "import matplotlib.pyplot as plt"
      ]
    },
    {
      "cell_type": "markdown",
      "metadata": {
        "id": "Q6NBXrZkzlhS"
      },
      "source": [
        "## Binary Network\n",
        "\n",
        "## Define a binary network class\n"
      ]
    },
    {
      "cell_type": "code",
      "execution_count": 3,
      "metadata": {
        "id": "XXkjOLlQh4B0"
      },
      "outputs": [],
      "source": [
        "class BinaryNetwork(nn.Module):\n",
        "  def __init__(self, hidden_dims = [4]):\n",
        "    super(BinaryNetwork, self).__init__()\n",
        "    self.network_dims = [2] + hidden_dims + [1]\n",
        "    self.layers = []\n",
        "    for i, dim in enumerate(self.network_dims[1:]):\n",
        "      prev_dim = self.network_dims[i]\n",
        "      dense = nn.Linear(in_features = prev_dim, out_features = dim, bias = True)\n",
        "      activation = nn.Sigmoid()\n",
        "      self.layers += [dense, activation]\n",
        "    self.layers = nn.ModuleList(self.layers)\n",
        "\n",
        "  def forward(self, x):\n",
        "    for layer in self.layers:\n",
        "      x = layer(x)\n",
        "    return x"
      ]
    },
    {
      "cell_type": "markdown",
      "metadata": {
        "id": "Jt_O-MPTzxo1"
      },
      "source": [
        "### Define data generator"
      ]
    },
    {
      "cell_type": "code",
      "execution_count": 4,
      "metadata": {
        "id": "ZU9RPLbqi-tL"
      },
      "outputs": [],
      "source": [
        "def generate_data(operator = \"AND\"):\n",
        "  assert operator in [\"AND\", \"OR\", \"XOR\", \"NOR\"], \"%s operator is not valid\" % operator\n",
        "  data = []\n",
        "  label = []\n",
        "  for i in range(2):\n",
        "    for j in range(2):\n",
        "      data.append([i, j])\n",
        "      if operator == \"AND\":\n",
        "        label.append(i & j)\n",
        "      elif operator == \"OR\":\n",
        "        label.append(i | j)\n",
        "      elif operator == \"XOR\":\n",
        "        label.append(i ^ j)\n",
        "      else:\n",
        "        label.append(not (i | j))\n",
        "  data = torch.as_tensor(data, dtype = torch.float32)\n",
        "  label = torch.as_tensor(label, dtype = torch.float32)\n",
        "  return data, label"
      ]
    },
    {
      "cell_type": "markdown",
      "metadata": {
        "id": "6rKa_T9az3G6"
      },
      "source": [
        "### Define the training framework"
      ]
    },
    {
      "cell_type": "code",
      "execution_count": 5,
      "metadata": {
        "colab": {
          "base_uri": "https://localhost:8080/",
          "height": 1000
        },
        "id": "nbF7qM7LkqFc",
        "outputId": "52a57732-43ad-4de6-e009-532ce1badc82"
      },
      "outputs": [
        {
          "output_type": "stream",
          "name": "stdout",
          "text": [
            "BinaryNetwork(\n",
            "  (layers): ModuleList(\n",
            "    (0): Linear(in_features=2, out_features=5, bias=True)\n",
            "    (1): Sigmoid()\n",
            "    (2): Linear(in_features=5, out_features=1, bias=True)\n",
            "    (3): Sigmoid()\n",
            "  )\n",
            ")\n",
            "[5/1000]. Loss: 0.5950. Accuracy: 75.00\n",
            "[10/1000]. Loss: 0.5703. Accuracy: 75.00\n",
            "[15/1000]. Loss: 0.5783. Accuracy: 75.00\n",
            "[20/1000]. Loss: 0.5452. Accuracy: 75.00\n",
            "[25/1000]. Loss: 0.5312. Accuracy: 75.00\n",
            "[30/1000]. Loss: 0.5210. Accuracy: 75.00\n",
            "[35/1000]. Loss: 0.5009. Accuracy: 75.00\n",
            "[40/1000]. Loss: 0.4839. Accuracy: 75.00\n",
            "[45/1000]. Loss: 0.4651. Accuracy: 75.00\n",
            "[50/1000]. Loss: 0.4436. Accuracy: 75.00\n",
            "[55/1000]. Loss: 0.4221. Accuracy: 75.00\n",
            "[60/1000]. Loss: 0.3994. Accuracy: 75.00\n",
            "[65/1000]. Loss: 0.3759. Accuracy: 75.00\n",
            "[70/1000]. Loss: 0.3523. Accuracy: 75.00\n",
            "[75/1000]. Loss: 0.3289. Accuracy: 75.00\n",
            "[80/1000]. Loss: 0.3057. Accuracy: 75.00\n",
            "[85/1000]. Loss: 0.2832. Accuracy: 100.00\n",
            "[90/1000]. Loss: 0.2613. Accuracy: 100.00\n",
            "[95/1000]. Loss: 0.2402. Accuracy: 100.00\n",
            "[100/1000]. Loss: 0.2203. Accuracy: 100.00\n",
            "[105/1000]. Loss: 0.2016. Accuracy: 100.00\n",
            "[110/1000]. Loss: 0.1842. Accuracy: 100.00\n",
            "[115/1000]. Loss: 0.1683. Accuracy: 100.00\n",
            "[120/1000]. Loss: 0.1538. Accuracy: 100.00\n",
            "[125/1000]. Loss: 0.1406. Accuracy: 100.00\n",
            "[130/1000]. Loss: 0.1288. Accuracy: 100.00\n",
            "[135/1000]. Loss: 0.1182. Accuracy: 100.00\n",
            "[140/1000]. Loss: 0.1087. Accuracy: 100.00\n",
            "[145/1000]. Loss: 0.1002. Accuracy: 100.00\n",
            "[150/1000]. Loss: 0.0925. Accuracy: 100.00\n",
            "[155/1000]. Loss: 0.0857. Accuracy: 100.00\n",
            "[160/1000]. Loss: 0.0796. Accuracy: 100.00\n",
            "[165/1000]. Loss: 0.0741. Accuracy: 100.00\n",
            "[170/1000]. Loss: 0.0691. Accuracy: 100.00\n",
            "[175/1000]. Loss: 0.0647. Accuracy: 100.00\n",
            "[180/1000]. Loss: 0.0607. Accuracy: 100.00\n",
            "[185/1000]. Loss: 0.0570. Accuracy: 100.00\n",
            "[190/1000]. Loss: 0.0537. Accuracy: 100.00\n",
            "[195/1000]. Loss: 0.0507. Accuracy: 100.00\n",
            "[200/1000]. Loss: 0.0479. Accuracy: 100.00\n",
            "[205/1000]. Loss: 0.0454. Accuracy: 100.00\n",
            "[210/1000]. Loss: 0.0431. Accuracy: 100.00\n",
            "[215/1000]. Loss: 0.0410. Accuracy: 100.00\n",
            "[220/1000]. Loss: 0.0391. Accuracy: 100.00\n",
            "[225/1000]. Loss: 0.0373. Accuracy: 100.00\n",
            "[230/1000]. Loss: 0.0356. Accuracy: 100.00\n",
            "[235/1000]. Loss: 0.0341. Accuracy: 100.00\n",
            "[240/1000]. Loss: 0.0326. Accuracy: 100.00\n",
            "[245/1000]. Loss: 0.0313. Accuracy: 100.00\n",
            "[250/1000]. Loss: 0.0301. Accuracy: 100.00\n",
            "[255/1000]. Loss: 0.0289. Accuracy: 100.00\n",
            "[260/1000]. Loss: 0.0278. Accuracy: 100.00\n",
            "[265/1000]. Loss: 0.0268. Accuracy: 100.00\n",
            "[270/1000]. Loss: 0.0258. Accuracy: 100.00\n",
            "[275/1000]. Loss: 0.0249. Accuracy: 100.00\n",
            "[280/1000]. Loss: 0.0241. Accuracy: 100.00\n",
            "[285/1000]. Loss: 0.0233. Accuracy: 100.00\n",
            "[290/1000]. Loss: 0.0225. Accuracy: 100.00\n",
            "[295/1000]. Loss: 0.0218. Accuracy: 100.00\n",
            "[300/1000]. Loss: 0.0212. Accuracy: 100.00\n",
            "[305/1000]. Loss: 0.0205. Accuracy: 100.00\n",
            "[310/1000]. Loss: 0.0199. Accuracy: 100.00\n",
            "[315/1000]. Loss: 0.0193. Accuracy: 100.00\n",
            "[320/1000]. Loss: 0.0188. Accuracy: 100.00\n",
            "[325/1000]. Loss: 0.0183. Accuracy: 100.00\n",
            "[330/1000]. Loss: 0.0178. Accuracy: 100.00\n",
            "[335/1000]. Loss: 0.0173. Accuracy: 100.00\n",
            "[340/1000]. Loss: 0.0169. Accuracy: 100.00\n",
            "[345/1000]. Loss: 0.0164. Accuracy: 100.00\n",
            "[350/1000]. Loss: 0.0160. Accuracy: 100.00\n",
            "[355/1000]. Loss: 0.0156. Accuracy: 100.00\n",
            "[360/1000]. Loss: 0.0153. Accuracy: 100.00\n",
            "[365/1000]. Loss: 0.0149. Accuracy: 100.00\n",
            "[370/1000]. Loss: 0.0145. Accuracy: 100.00\n",
            "[375/1000]. Loss: 0.0142. Accuracy: 100.00\n",
            "[380/1000]. Loss: 0.0139. Accuracy: 100.00\n",
            "[385/1000]. Loss: 0.0136. Accuracy: 100.00\n",
            "[390/1000]. Loss: 0.0133. Accuracy: 100.00\n",
            "[395/1000]. Loss: 0.0130. Accuracy: 100.00\n",
            "[400/1000]. Loss: 0.0127. Accuracy: 100.00\n",
            "[405/1000]. Loss: 0.0125. Accuracy: 100.00\n",
            "[410/1000]. Loss: 0.0122. Accuracy: 100.00\n",
            "[415/1000]. Loss: 0.0120. Accuracy: 100.00\n",
            "[420/1000]. Loss: 0.0117. Accuracy: 100.00\n",
            "[425/1000]. Loss: 0.0115. Accuracy: 100.00\n",
            "[430/1000]. Loss: 0.0113. Accuracy: 100.00\n",
            "[435/1000]. Loss: 0.0111. Accuracy: 100.00\n",
            "[440/1000]. Loss: 0.0109. Accuracy: 100.00\n",
            "[445/1000]. Loss: 0.0107. Accuracy: 100.00\n",
            "[450/1000]. Loss: 0.0105. Accuracy: 100.00\n",
            "[455/1000]. Loss: 0.0103. Accuracy: 100.00\n",
            "[460/1000]. Loss: 0.0101. Accuracy: 100.00\n",
            "[465/1000]. Loss: 0.0099. Accuracy: 100.00\n",
            "[470/1000]. Loss: 0.0098. Accuracy: 100.00\n",
            "[475/1000]. Loss: 0.0096. Accuracy: 100.00\n",
            "[480/1000]. Loss: 0.0095. Accuracy: 100.00\n",
            "[485/1000]. Loss: 0.0093. Accuracy: 100.00\n",
            "[490/1000]. Loss: 0.0091. Accuracy: 100.00\n",
            "[495/1000]. Loss: 0.0090. Accuracy: 100.00\n",
            "[500/1000]. Loss: 0.0089. Accuracy: 100.00\n",
            "[505/1000]. Loss: 0.0087. Accuracy: 100.00\n",
            "[510/1000]. Loss: 0.0086. Accuracy: 100.00\n",
            "[515/1000]. Loss: 0.0085. Accuracy: 100.00\n",
            "[520/1000]. Loss: 0.0083. Accuracy: 100.00\n",
            "[525/1000]. Loss: 0.0082. Accuracy: 100.00\n",
            "[530/1000]. Loss: 0.0081. Accuracy: 100.00\n",
            "[535/1000]. Loss: 0.0080. Accuracy: 100.00\n",
            "[540/1000]. Loss: 0.0079. Accuracy: 100.00\n",
            "[545/1000]. Loss: 0.0077. Accuracy: 100.00\n",
            "[550/1000]. Loss: 0.0076. Accuracy: 100.00\n",
            "[555/1000]. Loss: 0.0075. Accuracy: 100.00\n",
            "[560/1000]. Loss: 0.0074. Accuracy: 100.00\n",
            "[565/1000]. Loss: 0.0073. Accuracy: 100.00\n",
            "[570/1000]. Loss: 0.0072. Accuracy: 100.00\n",
            "[575/1000]. Loss: 0.0071. Accuracy: 100.00\n",
            "[580/1000]. Loss: 0.0070. Accuracy: 100.00\n",
            "[585/1000]. Loss: 0.0069. Accuracy: 100.00\n",
            "[590/1000]. Loss: 0.0069. Accuracy: 100.00\n",
            "[595/1000]. Loss: 0.0068. Accuracy: 100.00\n",
            "[600/1000]. Loss: 0.0067. Accuracy: 100.00\n",
            "[605/1000]. Loss: 0.0066. Accuracy: 100.00\n",
            "[610/1000]. Loss: 0.0065. Accuracy: 100.00\n",
            "[615/1000]. Loss: 0.0064. Accuracy: 100.00\n",
            "[620/1000]. Loss: 0.0064. Accuracy: 100.00\n",
            "[625/1000]. Loss: 0.0063. Accuracy: 100.00\n",
            "[630/1000]. Loss: 0.0062. Accuracy: 100.00\n",
            "[635/1000]. Loss: 0.0061. Accuracy: 100.00\n",
            "[640/1000]. Loss: 0.0061. Accuracy: 100.00\n",
            "[645/1000]. Loss: 0.0060. Accuracy: 100.00\n",
            "[650/1000]. Loss: 0.0059. Accuracy: 100.00\n",
            "[655/1000]. Loss: 0.0059. Accuracy: 100.00\n",
            "[660/1000]. Loss: 0.0058. Accuracy: 100.00\n",
            "[665/1000]. Loss: 0.0057. Accuracy: 100.00\n",
            "[670/1000]. Loss: 0.0057. Accuracy: 100.00\n",
            "[675/1000]. Loss: 0.0056. Accuracy: 100.00\n",
            "[680/1000]. Loss: 0.0055. Accuracy: 100.00\n",
            "[685/1000]. Loss: 0.0055. Accuracy: 100.00\n",
            "[690/1000]. Loss: 0.0054. Accuracy: 100.00\n",
            "[695/1000]. Loss: 0.0054. Accuracy: 100.00\n",
            "[700/1000]. Loss: 0.0053. Accuracy: 100.00\n",
            "[705/1000]. Loss: 0.0053. Accuracy: 100.00\n",
            "[710/1000]. Loss: 0.0052. Accuracy: 100.00\n",
            "[715/1000]. Loss: 0.0052. Accuracy: 100.00\n",
            "[720/1000]. Loss: 0.0051. Accuracy: 100.00\n",
            "[725/1000]. Loss: 0.0051. Accuracy: 100.00\n",
            "[730/1000]. Loss: 0.0050. Accuracy: 100.00\n",
            "[735/1000]. Loss: 0.0050. Accuracy: 100.00\n",
            "[740/1000]. Loss: 0.0049. Accuracy: 100.00\n",
            "[745/1000]. Loss: 0.0049. Accuracy: 100.00\n",
            "[750/1000]. Loss: 0.0048. Accuracy: 100.00\n",
            "[755/1000]. Loss: 0.0048. Accuracy: 100.00\n",
            "[760/1000]. Loss: 0.0047. Accuracy: 100.00\n",
            "[765/1000]. Loss: 0.0047. Accuracy: 100.00\n",
            "[770/1000]. Loss: 0.0046. Accuracy: 100.00\n",
            "[775/1000]. Loss: 0.0046. Accuracy: 100.00\n",
            "[780/1000]. Loss: 0.0045. Accuracy: 100.00\n",
            "[785/1000]. Loss: 0.0045. Accuracy: 100.00\n",
            "[790/1000]. Loss: 0.0045. Accuracy: 100.00\n",
            "[795/1000]. Loss: 0.0044. Accuracy: 100.00\n",
            "[800/1000]. Loss: 0.0044. Accuracy: 100.00\n",
            "[805/1000]. Loss: 0.0043. Accuracy: 100.00\n",
            "[810/1000]. Loss: 0.0043. Accuracy: 100.00\n",
            "[815/1000]. Loss: 0.0043. Accuracy: 100.00\n",
            "[820/1000]. Loss: 0.0042. Accuracy: 100.00\n",
            "[825/1000]. Loss: 0.0042. Accuracy: 100.00\n",
            "[830/1000]. Loss: 0.0042. Accuracy: 100.00\n",
            "[835/1000]. Loss: 0.0041. Accuracy: 100.00\n",
            "[840/1000]. Loss: 0.0041. Accuracy: 100.00\n",
            "[845/1000]. Loss: 0.0041. Accuracy: 100.00\n",
            "[850/1000]. Loss: 0.0040. Accuracy: 100.00\n",
            "[855/1000]. Loss: 0.0040. Accuracy: 100.00\n",
            "[860/1000]. Loss: 0.0040. Accuracy: 100.00\n",
            "[865/1000]. Loss: 0.0039. Accuracy: 100.00\n",
            "[870/1000]. Loss: 0.0039. Accuracy: 100.00\n",
            "[875/1000]. Loss: 0.0039. Accuracy: 100.00\n",
            "[880/1000]. Loss: 0.0038. Accuracy: 100.00\n",
            "[885/1000]. Loss: 0.0038. Accuracy: 100.00\n",
            "[890/1000]. Loss: 0.0038. Accuracy: 100.00\n",
            "[895/1000]. Loss: 0.0037. Accuracy: 100.00\n",
            "[900/1000]. Loss: 0.0037. Accuracy: 100.00\n",
            "[905/1000]. Loss: 0.0037. Accuracy: 100.00\n",
            "[910/1000]. Loss: 0.0037. Accuracy: 100.00\n",
            "[915/1000]. Loss: 0.0036. Accuracy: 100.00\n",
            "[920/1000]. Loss: 0.0036. Accuracy: 100.00\n",
            "[925/1000]. Loss: 0.0036. Accuracy: 100.00\n",
            "[930/1000]. Loss: 0.0035. Accuracy: 100.00\n",
            "[935/1000]. Loss: 0.0035. Accuracy: 100.00\n",
            "[940/1000]. Loss: 0.0035. Accuracy: 100.00\n",
            "[945/1000]. Loss: 0.0035. Accuracy: 100.00\n",
            "[950/1000]. Loss: 0.0034. Accuracy: 100.00\n",
            "[955/1000]. Loss: 0.0034. Accuracy: 100.00\n",
            "[960/1000]. Loss: 0.0034. Accuracy: 100.00\n",
            "[965/1000]. Loss: 0.0034. Accuracy: 100.00\n",
            "[970/1000]. Loss: 0.0033. Accuracy: 100.00\n",
            "[975/1000]. Loss: 0.0033. Accuracy: 100.00\n",
            "[980/1000]. Loss: 0.0033. Accuracy: 100.00\n",
            "[985/1000]. Loss: 0.0033. Accuracy: 100.00\n",
            "[990/1000]. Loss: 0.0033. Accuracy: 100.00\n",
            "[995/1000]. Loss: 0.0032. Accuracy: 100.00\n",
            "[1000/1000]. Loss: 0.0032. Accuracy: 100.00\n",
            "Final Accuracy: 100.00\n"
          ]
        },
        {
          "output_type": "execute_result",
          "data": {
            "text/plain": [
              "[<matplotlib.lines.Line2D at 0x7960f48f0bb0>]"
            ]
          },
          "metadata": {},
          "execution_count": 5
        },
        {
          "output_type": "display_data",
          "data": {
            "text/plain": [
              "<Figure size 640x480 with 1 Axes>"
            ],
            "image/png": "[encoded data removed]"
          },
          "metadata": {}
        }
      ],
      "source": [
        "model = BinaryNetwork( hidden_dims= [5])\n",
        "model.train()\n",
        "print(model)\n",
        "operator = \"AND\"\n",
        "inputs, labels = generate_data(operator = operator)\n",
        "n_iters = 1000\n",
        "learning_rate = 0.1\n",
        "bce_loss_fn = nn.BCELoss()\n",
        "optim = torch.optim.SGD(params = model.parameters(), lr = learning_rate, momentum=0.9)\n",
        "threshold = 0.5\n",
        "\n",
        "losses = []\n",
        "\n",
        "for i in range(1, n_iters + 1):\n",
        "  outputs = model(inputs)\n",
        "  outputs = outputs.reshape(-1)\n",
        "\n",
        "  loss = bce_loss_fn(outputs, labels)\n",
        "  predictions = (outputs > threshold).long()\n",
        "\n",
        "  accuracy = (predictions == labels).float().mean() * 100.\n",
        "\n",
        "  optim.zero_grad()\n",
        "  loss.backward()\n",
        "  optim.step()\n",
        "\n",
        "  losses.append(loss.item()) #STORE THE LOSS VALUE\n",
        "\n",
        "  loss = loss.item() # Convert to Python Scalar\n",
        "  accuracy = accuracy.item() # Convert to Python Scalar\n",
        "\n",
        "  if i % 5 == 0:\n",
        "    print(\"[%d/%d]. Loss: %0.4f. Accuracy: %0.2f\" % (i, n_iters, loss, accuracy))\n",
        "\n",
        "model.eval()\n",
        "outputs = model(inputs)\n",
        "outputs = outputs.reshape(-1)\n",
        "predictions = (outputs > threshold).long()\n",
        "accuracy = (predictions == labels).float().mean() * 100.\n",
        "accuracy = accuracy.item()\n",
        "print(\"Final Accuracy: %0.2f\" % (accuracy))\n",
        "\n",
        "torch.save(model.state_dict(), \"%s_Network.pth\" % operator)\n",
        "  # model.load_state_dict(torch.load(\"%s_Network.pth\" % operator)) # Load model in the next time you use\n",
        "plt.plot(losses)"
      ]
    },
    {
      "cell_type": "markdown",
      "metadata": {
        "id": "IE5YlJ_I3NYg"
      },
      "source": [
        "## Digit Classification\n",
        "\n",
        "### Define Digit Classification Network"
      ]
    },
    {
      "cell_type": "code",
      "execution_count": null,
      "metadata": {
        "id": "CI2eUjVG0Ssz"
      },
      "outputs": [],
      "source": [
        "class DigitNetwork(nn.Module):\n",
        "  def __init__(self, hidden_dims = [128]):\n",
        "    super(DigitNetwork, self).__init__()\n",
        "    self.network_dims = [28 * 28] + hidden_dims + [10]\n",
        "    self.layers = []\n",
        "    for i, dim in enumerate(self.network_dims[1:]):\n",
        "      prev_dim = self.network_dims[i]\n",
        "      dense = nn.Linear(in_features = prev_dim, out_features = dim, bias = True)\n",
        "      if i < len(self.network_dims[1:]) - 1:\n",
        "        activation = nn.Sigmoid() # Hidden Layer\n",
        "      else:\n",
        "        activation = nn.Softmax(dim=1) # Last Layer\n",
        "      self.layers += [dense, activation]\n",
        "    self.layers = nn.ModuleList(self.layers)\n",
        "\n",
        "  def forward(self, x):\n",
        "    size = x.size()\n",
        "    x = x.reshape(size[0], -1) # Flatten images\n",
        "    for layer in self.layers[:-1]:\n",
        "      x = layer(x)\n",
        "    if self.training == False:\n",
        "      x = self.layers[-1](x)\n",
        "    return x"
      ]
    },
    {
      "cell_type": "markdown",
      "metadata": {
        "id": "_JTjiev9CK4K"
      },
      "source": [
        "### Define Data Generator"
      ]
    },
    {
      "cell_type": "code",
      "execution_count": null,
      "metadata": {
        "id": "FUnVAlP85SGs"
      },
      "outputs": [],
      "source": [
        "def create_data_generator(batch_size = 32, root = \"data\"):\n",
        "  train_dataset = torchvision.datasets.MNIST(root = root,\n",
        "                                             train = True,\n",
        "                                             transform = torchvision.transforms.ToTensor(),\n",
        "                                             download = True)\n",
        "  test_dataset = torchvision.datasets.MNIST(root = root,\n",
        "                                             train = False,\n",
        "                                             transform = torchvision.transforms.ToTensor(),\n",
        "                                             download = True)\n",
        "  train_loader = torch.utils.data.DataLoader(train_dataset,\n",
        "                                             batch_size = batch_size,\n",
        "                                             shuffle = True)\n",
        "  test_loader = torch.utils.data.DataLoader(test_dataset,\n",
        "                                             batch_size = batch_size,\n",
        "                                             shuffle = False)\n",
        "  return train_loader, test_loader"
      ]
    },
    {
      "cell_type": "markdown",
      "metadata": {
        "id": "9AZSB2N3CTFd"
      },
      "source": [
        "### Define the training framework"
      ]
    },
    {
      "cell_type": "code",
      "execution_count": null,
      "metadata": {
        "colab": {
          "base_uri": "https://localhost:8080/"
        },
        "id": "nDmnwaOT66-S",
        "outputId": "5e71357f-0843-4778-9144-3f957e0c16cc"
      },
      "outputs": [
        {
          "name": "stdout",
          "output_type": "stream",
          "text": [
            "Downloading http://yann.lecun.com/exdb/mnist/train-images-idx3-ubyte.gz\n",
            "Downloading http://yann.lecun.com/exdb/mnist/train-images-idx3-ubyte.gz to data/MNIST/raw/train-images-idx3-ubyte.gz\n"
          ]
        },
        {
          "name": "stderr",
          "output_type": "stream",
          "text": [
            "100%|██████████| 9912422/9912422 [00:00<00:00, 158455495.04it/s]"
          ]
        },
        {
          "name": "stdout",
          "output_type": "stream",
          "text": [
            "Extracting data/MNIST/raw/train-images-idx3-ubyte.gz to data/MNIST/raw\n"
          ]
        },
        {
          "name": "stderr",
          "output_type": "stream",
          "text": [
            "\n"
          ]
        },
        {
          "name": "stdout",
          "output_type": "stream",
          "text": [
            "\n",
            "Downloading http://yann.lecun.com/exdb/mnist/train-labels-idx1-ubyte.gz\n",
            "Downloading http://yann.lecun.com/exdb/mnist/train-labels-idx1-ubyte.gz to data/MNIST/raw/train-labels-idx1-ubyte.gz\n"
          ]
        },
        {
          "name": "stderr",
          "output_type": "stream",
          "text": [
            "100%|██████████| 28881/28881 [00:00<00:00, 115587494.11it/s]\n"
          ]
        },
        {
          "name": "stdout",
          "output_type": "stream",
          "text": [
            "Extracting data/MNIST/raw/train-labels-idx1-ubyte.gz to data/MNIST/raw\n",
            "\n",
            "Downloading http://yann.lecun.com/exdb/mnist/t10k-images-idx3-ubyte.gz\n",
            "Downloading http://yann.lecun.com/exdb/mnist/t10k-images-idx3-ubyte.gz to data/MNIST/raw/t10k-images-idx3-ubyte.gz\n"
          ]
        },
        {
          "name": "stderr",
          "output_type": "stream",
          "text": [
            "100%|██████████| 1648877/1648877 [00:00<00:00, 72323047.28it/s]"
          ]
        },
        {
          "name": "stdout",
          "output_type": "stream",
          "text": [
            "Extracting data/MNIST/raw/t10k-images-idx3-ubyte.gz to data/MNIST/raw\n",
            "\n",
            "Downloading http://yann.lecun.com/exdb/mnist/t10k-labels-idx1-ubyte.gz\n"
          ]
        },
        {
          "name": "stderr",
          "output_type": "stream",
          "text": [
            "\n"
          ]
        },
        {
          "name": "stdout",
          "output_type": "stream",
          "text": [
            "Downloading http://yann.lecun.com/exdb/mnist/t10k-labels-idx1-ubyte.gz to data/MNIST/raw/t10k-labels-idx1-ubyte.gz\n"
          ]
        },
        {
          "name": "stderr",
          "output_type": "stream",
          "text": [
            "100%|██████████| 4542/4542 [00:00<00:00, 22571716.55it/s]\n"
          ]
        },
        {
          "name": "stdout",
          "output_type": "stream",
          "text": [
            "Extracting data/MNIST/raw/t10k-labels-idx1-ubyte.gz to data/MNIST/raw\n",
            "\n",
            "DigitNetwork(\n",
            "  (layers): ModuleList(\n",
            "    (0): Linear(in_features=784, out_features=10, bias=True)\n",
            "    (1): Softmax(dim=1)\n",
            "  )\n",
            ")\n",
            "Epoch [1/1]. Iter [1/1875]. Loss: 2.28. Accuracy: 6.25\n",
            "Epoch [1/1]. Iter [101/1875]. Loss: 0.09. Accuracy: 100.00\n",
            "Epoch [1/1]. Iter [201/1875]. Loss: 0.23. Accuracy: 93.75\n",
            "Epoch [1/1]. Iter [301/1875]. Loss: 0.22. Accuracy: 93.75\n",
            "Epoch [1/1]. Iter [401/1875]. Loss: 0.16. Accuracy: 87.50\n",
            "Epoch [1/1]. Iter [501/1875]. Loss: 0.69. Accuracy: 78.12\n",
            "Epoch [1/1]. Iter [601/1875]. Loss: 0.39. Accuracy: 90.62\n",
            "Epoch [1/1]. Iter [701/1875]. Loss: 0.50. Accuracy: 87.50\n",
            "Epoch [1/1]. Iter [801/1875]. Loss: 0.32. Accuracy: 87.50\n",
            "Epoch [1/1]. Iter [901/1875]. Loss: 0.36. Accuracy: 84.38\n",
            "Epoch [1/1]. Iter [1001/1875]. Loss: 0.37. Accuracy: 93.75\n",
            "Epoch [1/1]. Iter [1101/1875]. Loss: 0.48. Accuracy: 87.50\n",
            "Epoch [1/1]. Iter [1201/1875]. Loss: 0.75. Accuracy: 87.50\n",
            "Epoch [1/1]. Iter [1301/1875]. Loss: 0.43. Accuracy: 87.50\n",
            "Epoch [1/1]. Iter [1401/1875]. Loss: 0.37. Accuracy: 90.62\n",
            "Epoch [1/1]. Iter [1501/1875]. Loss: 0.35. Accuracy: 90.62\n",
            "Epoch [1/1]. Iter [1601/1875]. Loss: 0.55. Accuracy: 81.25\n",
            "Epoch [1/1]. Iter [1701/1875]. Loss: 0.32. Accuracy: 93.75\n",
            "Epoch [1/1]. Iter [1801/1875]. Loss: 0.23. Accuracy: 90.62\n"
          ]
        }
      ],
      "source": [
        "cuda = torch.cuda.is_available()\n",
        "batch_size = 32\n",
        "train_loader, test_loader = create_data_generator(batch_size)\n",
        "model = DigitNetwork(hidden_dims=[])\n",
        "print(model)\n",
        "if cuda:\n",
        "  model.cuda()\n",
        "n_epochs = 1\n",
        "learning_rate = 0.1\n",
        "optim = torch.optim.SGD(params = model.parameters(), lr = learning_rate, momentum=0.9)\n",
        "loss_fn = nn.CrossEntropyLoss()\n",
        "\n",
        "model.train()\n",
        "for epoch in range(1, n_epochs + 1):\n",
        "  for idx, (images, labels) in enumerate(train_loader):\n",
        "    if cuda:\n",
        "      images = images.cuda()\n",
        "      labels = labels.cuda()\n",
        "\n",
        "    outputs = model(images)\n",
        "\n",
        "    loss = loss_fn(outputs, labels)\n",
        "\n",
        "    optim.zero_grad()\n",
        "    loss.backward()\n",
        "    optim.step()\n",
        "\n",
        "    predictions = torch.argmax(outputs, 1)\n",
        "    accuracy = (predictions == labels).float().mean() * 100.\n",
        "\n",
        "    loss = loss.item() # Convert to Python Scalar\n",
        "    accuracy = accuracy.item() # Convert to Python Scalar\n",
        "\n",
        "    if idx % 100 == 0:\n",
        "      print(\"Epoch [%d/%d]. Iter [%d/%d]. Loss: %0.2f. Accuracy: %0.2f\" % (epoch, n_epochs, idx + 1, len(train_loader), loss, accuracy))\n",
        "\n",
        "torch.save(model.state_dict(), \"MNIST_Network.pth\")"
      ]
    },
    {
      "cell_type": "markdown",
      "metadata": {
        "id": "3_nZTwv1CbGl"
      },
      "source": [
        "### Define the evaluation framework"
      ]
    },
    {
      "cell_type": "code",
      "execution_count": null,
      "metadata": {
        "colab": {
          "base_uri": "https://localhost:8080/"
        },
        "id": "GLbEk4QZ6_4K",
        "outputId": "60855dec-47cd-4490-88a6-f83385b4bdbf"
      },
      "outputs": [
        {
          "name": "stdout",
          "output_type": "stream",
          "text": [
            "Iter [1/10000]. Accuracy: 100.00\n",
            "Iter [2001/10000]. Accuracy: 100.00\n",
            "Iter [4001/10000]. Accuracy: 0.00\n",
            "Iter [6001/10000]. Accuracy: 100.00\n",
            "Iter [8001/10000]. Accuracy: 100.00\n",
            "Final Accuracy: 90.94\n"
          ]
        }
      ],
      "source": [
        "cuda = torch.cuda.is_available()\n",
        "batch_size = 1\n",
        "train_loader, test_loader = create_data_generator(batch_size)\n",
        "model = DigitNetwork(hidden_dims=[])\n",
        "if cuda:\n",
        "  model.cuda()\n",
        "model.eval()\n",
        "model.load_state_dict(torch.load(\"MNIST_Network.pth\"))\n",
        "\n",
        "total_accuracy = 0.0\n",
        "for idx, (images, labels) in enumerate(test_loader):\n",
        "  if cuda:\n",
        "    images = images.cuda()\n",
        "    labels = labels.cuda()\n",
        "\n",
        "  outputs = model(images)\n",
        "\n",
        "  predictions = torch.argmax(outputs, 1)\n",
        "  accuracy = (predictions == labels).float().mean() * 100.\n",
        "\n",
        "  accuracy = accuracy.item() # Convert to Python Scalar\n",
        "\n",
        "  total_accuracy += accuracy\n",
        "\n",
        "  if idx % 2000 == 0:\n",
        "    print(\"Iter [%d/%d]. Accuracy: %0.2f\" % (idx + 1, len(test_loader), accuracy))\n",
        "\n",
        "print(\"Final Accuracy: %0.2f\" % (total_accuracy / len(test_loader)))"
      ]
    },
    {
      "cell_type": "markdown",
      "metadata": {
        "id": "Wmpi69Q-bzDj"
      },
      "source": [
        "## Backpropagation\n",
        "\n",
        "### ReLU Example"
      ]
    },
    {
      "cell_type": "code",
      "execution_count": null,
      "metadata": {
        "id": "EWoO_sciAqDa"
      },
      "outputs": [],
      "source": [
        "# https://pytorch.org/tutorials/beginner/pytorch_with_examples.html#pytorch-defining-new-autograd-functions\n",
        "class MyReLU(torch.autograd.Function):\n",
        "    \"\"\"\n",
        "    We can implement our own custom autograd Functions by subclassing\n",
        "    torch.autograd.Function and implementing the forward and backward passes\n",
        "    which operate on Tensors.\n",
        "    \"\"\"\n",
        "\n",
        "    @staticmethod\n",
        "    def forward(ctx, input):\n",
        "        \"\"\"\n",
        "        In the forward pass we receive a Tensor containing the input and return\n",
        "        a Tensor containing the output. ctx is a context object that can be used\n",
        "        to stash information for backward computation. You can cache arbitrary\n",
        "        objects for use in the backward pass using the ctx.save_for_backward method.\n",
        "        \"\"\"\n",
        "        ctx.save_for_backward(input)\n",
        "        return input.clamp(min=0)\n",
        "\n",
        "    @staticmethod\n",
        "    def backward(ctx, grad_output):\n",
        "        \"\"\"\n",
        "        In the backward pass we receive a Tensor containing the gradient of the loss\n",
        "        with respect to the output, and we need to compute the gradient of the loss\n",
        "        with respect to the input.\n",
        "        \"\"\"\n",
        "        input, = ctx.saved_tensors\n",
        "        grad_input = grad_output.clone()\n",
        "        grad_input[input < 0] = 0\n",
        "        return grad_input"
      ]
    },
    {
      "cell_type": "markdown",
      "metadata": {
        "id": "2sJY_Gnvb7wP"
      },
      "source": [
        "#### Sigmoid Function\n"
      ]
    },
    {
      "cell_type": "code",
      "execution_count": null,
      "metadata": {
        "id": "bj3ac-EVRvMz"
      },
      "outputs": [],
      "source": [
        "class MySigmoid(torch.autograd.Function):\n",
        "    \"\"\"\n",
        "    We can implement our own custom autograd Functions by subclassing\n",
        "    torch.autograd.Function and implementing the forward and backward passes\n",
        "    which operate on Tensors.\n",
        "    \"\"\"\n",
        "\n",
        "    @staticmethod\n",
        "    def forward(ctx, input):\n",
        "        # input is a N x C tensor, N is the batch size, C is the dimension of input\n",
        "        ctx.save_for_backward(input)\n",
        "        # YOUR CODE HERE\n",
        "        # return output of sigmoid function\n",
        "\n",
        "    @staticmethod\n",
        "    def backward(ctx, grad_output):\n",
        "        input, = ctx.saved_tensors\n",
        "        # YOUR CODE HERE\n",
        "        # return grad_input"
      ]
    },
    {
      "cell_type": "markdown",
      "metadata": {
        "id": "VgjRo-W1b_CD"
      },
      "source": [
        "#### Fully Connected Layer"
      ]
    },
    {
      "cell_type": "code",
      "execution_count": null,
      "metadata": {
        "id": "iyxyWGNaXvG_"
      },
      "outputs": [],
      "source": [
        "class MyLinearFunction(torch.autograd.Function):\n",
        "    \"\"\"\n",
        "    We can implement our own custom autograd Functions by subclassing\n",
        "    torch.autograd.Function and implementing the forward and backward passes\n",
        "    which operate on Tensors.\n",
        "    \"\"\"\n",
        "\n",
        "    @staticmethod\n",
        "    def forward(ctx, input, weights, bias):\n",
        "        # input is a N x C tensor, N is the batch size, C is the dimension of input\n",
        "        # weights is a C x D tensor, C and D are the dimension out input and ouput\n",
        "        # bias is D tensor\n",
        "        ctx.save_for_backward(input, weights, bias)\n",
        "        # YOUR CODE HERE\n",
        "        # return output of linear function\n",
        "        return torch.matmul(input, weights) + bias\n",
        "\n",
        "\n",
        "    @staticmethod\n",
        "    def backward(ctx, grad_output):\n",
        "        input, weights, bias = ctx.saved_tensors\n",
        "        # YOUR CODE HERE\n",
        "        # return grad_input, grad_weights, grad_bias\n",
        "\n",
        "class MyLinearLayer(nn.Module):\n",
        "  # You don't modify this layer\n",
        "  def __init__(self, in_features = 2, out_features = 4):\n",
        "    super(MyLinearLayer, self).__init__()\n",
        "    self.weights = nn.Parameter(torch.randn(in_features, out_features))\n",
        "    self.bias = nn.Parameter(torch.zeros(out_features))\n",
        "    self.linear_fn = MyLinearFunction.apply\n",
        "\n",
        "  def forward(self, input):\n",
        "    return self.linear_fn(input, self.weights, self.bias)\n"
      ]
    },
    {
      "cell_type": "markdown",
      "metadata": {
        "id": "AUjXs20ecGBG"
      },
      "source": [
        "#### Testing Your Implementation"
      ]
    },
    {
      "cell_type": "code",
      "execution_count": null,
      "metadata": {
        "id": "95fQHamjZMX1"
      },
      "outputs": [],
      "source": [
        "class MyLinearNetwork(nn.Module):\n",
        "  def __init__(self):\n",
        "    super(MyLinearNetwork, self).__init__()\n",
        "    self.linear_1 = MyLinearLayer(28 * 28, 128)\n",
        "    self.sigmoid_fn = MySigmoid.apply\n",
        "    self.linear_2 = MyLinearLayer(128, 10)\n",
        "    self.softmax_fn = nn.Softmax(dim=1)\n",
        "\n",
        "  def forward(self, x):\n",
        "    size = x.size()\n",
        "    x = x.reshape(size[0], -1) # Flatten images\n",
        "    x = self.linear_1(x)\n",
        "    x = self.sigmoid_fn(x)\n",
        "    x = self.linear_2(x)\n",
        "    if self.training == False:\n",
        "      x = self.softmax_fn(x)\n",
        "    return x"
      ]
    },
    {
      "cell_type": "code",
      "execution_count": null,
      "metadata": {
        "id": "h-PND4sBcwgM"
      },
      "outputs": [],
      "source": [
        "cuda = torch.cuda.is_available()\n",
        "batch_size = 32\n",
        "train_loader, test_loader = create_data_generator(batch_size)\n",
        "model = MyLinearNetwork()\n",
        "print(model)\n",
        "if cuda:\n",
        "  model.cuda()\n",
        "n_epochs = 3\n",
        "learning_rate = 0.1\n",
        "optim = torch.optim.SGD(params = model.parameters(), lr = learning_rate, momentum=0.9)\n",
        "loss_fn = nn.CrossEntropyLoss()\n",
        "\n",
        "model.train()\n",
        "for epoch in range(1, n_epochs + 1):\n",
        "  for idx, (images, labels) in enumerate(train_loader):\n",
        "    if cuda:\n",
        "      images = images.cuda()\n",
        "      labels = labels.cuda()\n",
        "\n",
        "    outputs = model(images)\n",
        "\n",
        "    loss = loss_fn(outputs, labels)\n",
        "\n",
        "    optim.zero_grad()\n",
        "    loss.backward()\n",
        "    optim.step()\n",
        "\n",
        "    predictions = torch.argmax(outputs, 1)\n",
        "    accuracy = (predictions == labels).float().mean() * 100.\n",
        "\n",
        "    loss = loss.item() # Convert to Python Scalar\n",
        "    accuracy = accuracy.item() # Convert to Python Scalar\n",
        "\n",
        "    if idx % 100 == 0:\n",
        "      print(\"Epoch [%d/%d]. Iter [%d/%d]. Loss: %0.2f. Accuracy: %0.2f\" % (epoch, n_epochs, idx + 1, len(train_loader), loss, accuracy))\n",
        "\n",
        "total_accuracy = 0.0\n",
        "model.eval()\n",
        "for idx, (images, labels) in enumerate(test_loader):\n",
        "  if cuda:\n",
        "    images = images.cuda()\n",
        "    labels = labels.cuda()\n",
        "\n",
        "  outputs = model(images)\n",
        "\n",
        "  predictions = torch.argmax(outputs, 1)\n",
        "  accuracy = (predictions == labels).float().mean() * 100.\n",
        "\n",
        "  accuracy = accuracy.item() # Convert to Python Scalar\n",
        "\n",
        "  total_accuracy += accuracy\n",
        "\n",
        "  if idx % 2000 == 0:\n",
        "    print(\"Iter [%d/%d]. Accuracy: %0.2f\" % (idx + 1, len(test_loader), accuracy))\n",
        "\n",
        "print(\"Final Accuracy: %0.2f\" % (total_accuracy / len(test_loader)))"
      ]
    },
    {
      "cell_type": "code",
      "execution_count": null,
      "metadata": {
        "id": "QP5Vc_zriFmK"
      },
      "outputs": [],
      "source": []
    }
  ],
  "metadata": {
    "accelerator": "GPU",
    "colab": {
      "provenance": [],
      "include_colab_link": true
    },
    "kernelspec": {
      "display_name": "Python 3",
      "name": "python3"
    }
  },
  "nbformat": 4,
  "nbformat_minor": 0
}