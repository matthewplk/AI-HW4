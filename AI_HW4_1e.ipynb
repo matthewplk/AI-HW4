{
  "cells": [
    {
      "cell_type": "markdown",
      "metadata": {
        "id": "view-in-github",
        "colab_type": "text"
      },
      "source": [
        "<a href=\"https://colab.research.google.com/github/matthewplk/AI-HW4/blob/main/AI_HW4_1e.ipynb\" target=\"_parent\"><img src=\"https://colab.research.google.com/assets/colab-badge.svg\" alt=\"Open In Colab\"/></a>"
      ]
    },
    {
      "cell_type": "markdown",
      "metadata": {
        "id": "xcRVUziqz7hB"
      },
      "source": [
        "# Assignment 4\n",
        "\n",
        "This is an basecode for assignment 4 of Artificial Intelligence class (CSCE-4613), Spring 2023\n"
      ]
    },
    {
      "cell_type": "code",
      "execution_count": 1,
      "metadata": {
        "id": "Ih72pU-4h0BT"
      },
      "outputs": [],
      "source": [
        "import torch\n",
        "import torch.nn as nn\n",
        "import torchvision\n",
        "import matplotlib.pyplot as plt"
      ]
    },
    {
      "cell_type": "markdown",
      "metadata": {
        "id": "Q6NBXrZkzlhS"
      },
      "source": [
        "## Binary Network\n",
        "\n",
        "## Define a binary network class\n"
      ]
    },
    {
      "cell_type": "code",
      "execution_count": 2,
      "metadata": {
        "id": "XXkjOLlQh4B0"
      },
      "outputs": [],
      "source": [
        "class BinaryNetwork(nn.Module):\n",
        "  def __init__(self, hidden_dims = [2]):\n",
        "    super(BinaryNetwork, self).__init__()\n",
        "    self.network_dims = [2] + hidden_dims + [1]\n",
        "    self.layers = []\n",
        "    for i, dim in enumerate(self.network_dims[1:]):\n",
        "      prev_dim = self.network_dims[i]\n",
        "      dense = nn.Linear(in_features = prev_dim, out_features = dim, bias = True)\n",
        "      activation = nn.Sigmoid()\n",
        "      self.layers += [dense, activation]\n",
        "    self.layers = nn.ModuleList(self.layers)\n",
        "\n",
        "  def forward(self, x):\n",
        "    for layer in self.layers:\n",
        "      x = layer(x)\n",
        "    return x"
      ]
    },
    {
      "cell_type": "markdown",
      "metadata": {
        "id": "Jt_O-MPTzxo1"
      },
      "source": [
        "### Define data generator"
      ]
    },
    {
      "cell_type": "code",
      "execution_count": 3,
      "metadata": {
        "id": "ZU9RPLbqi-tL"
      },
      "outputs": [],
      "source": [
        "def generate_data(operator = \"NOR\"):\n",
        "  assert operator in [\"AND\", \"OR\", \"XOR\", \"NOR\"], \"%s operator is not valid\" % operator\n",
        "  data = []\n",
        "  label = []\n",
        "  for i in range(2):\n",
        "    for j in range(2):\n",
        "      data.append([i, j])\n",
        "      if operator == \"AND\":\n",
        "        label.append(i & j)\n",
        "      elif operator == \"OR\":\n",
        "        label.append(i | j)\n",
        "      elif operator == \"XOR\":\n",
        "        label.append(i ^ j)\n",
        "      else:\n",
        "        label.append(not (i | j))\n",
        "  data = torch.as_tensor(data, dtype = torch.float32)\n",
        "  label = torch.as_tensor(label, dtype = torch.float32)\n",
        "  return data, label"
      ]
    },
    {
      "cell_type": "markdown",
      "metadata": {
        "id": "6rKa_T9az3G6"
      },
      "source": [
        "### Define the training framework"
      ]
    },
    {
      "cell_type": "code",
      "execution_count": 6,
      "metadata": {
        "colab": {
          "base_uri": "https://localhost:8080/",
          "height": 787
        },
        "id": "nbF7qM7LkqFc",
        "outputId": "1c35264d-2960-4ae5-d142-e0dfda108676"
      },
      "outputs": [
        {
          "output_type": "stream",
          "name": "stdout",
          "text": [
            "BinaryNetwork(\n",
            "  (layers): ModuleList(\n",
            "    (0): Linear(in_features=2, out_features=2, bias=True)\n",
            "    (1): Sigmoid()\n",
            "    (2): Linear(in_features=2, out_features=1, bias=True)\n",
            "    (3): Sigmoid()\n",
            "  )\n",
            ")\n",
            "[50/500]. Loss: 0.4681. Accuracy: 75.00\n",
            "[100/500]. Loss: 0.1763. Accuracy: 100.00\n",
            "[150/500]. Loss: 0.0549. Accuracy: 100.00\n",
            "[200/500]. Loss: 0.0288. Accuracy: 100.00\n",
            "[250/500]. Loss: 0.0191. Accuracy: 100.00\n",
            "[300/500]. Loss: 0.0142. Accuracy: 100.00\n",
            "[350/500]. Loss: 0.0112. Accuracy: 100.00\n",
            "[400/500]. Loss: 0.0092. Accuracy: 100.00\n",
            "[450/500]. Loss: 0.0078. Accuracy: 100.00\n",
            "[500/500]. Loss: 0.0068. Accuracy: 100.00\n",
            "Final Accuracy: 100.00\n"
          ]
        },
        {
          "output_type": "execute_result",
          "data": {
            "text/plain": [
              "[<matplotlib.lines.Line2D at 0x7f55d175c040>]"
            ]
          },
          "metadata": {},
          "execution_count": 6
        },
        {
          "output_type": "display_data",
          "data": {
            "text/plain": [
              "<Figure size 640x480 with 1 Axes>"
            ],
            "image/png": "[encoded data removed]"
          },
          "metadata": {}
        }
      ],
      "source": [
        "model = BinaryNetwork( hidden_dims= [2])\n",
        "model.train()\n",
        "print(model)\n",
        "operator = \"NOR\"\n",
        "inputs, labels = generate_data(operator = operator)\n",
        "n_iters = 500\n",
        "learning_rate = 0.1\n",
        "bce_loss_fn = nn.BCELoss()\n",
        "optim = torch.optim.SGD(params = model.parameters(), lr = learning_rate, momentum=0.9)\n",
        "threshold = 0.5\n",
        "\n",
        "losses = []\n",
        "\n",
        "for i in range(1, n_iters + 1):\n",
        "  outputs = model(inputs)\n",
        "  outputs = outputs.reshape(-1)\n",
        "\n",
        "  loss = bce_loss_fn(outputs, labels)\n",
        "  predictions = (outputs > threshold).long()\n",
        "\n",
        "  accuracy = (predictions == labels).float().mean() * 100.\n",
        "\n",
        "  optim.zero_grad()\n",
        "  loss.backward()\n",
        "  optim.step()\n",
        "\n",
        "  losses.append(loss.item()) #STORE THE LOSS VALUE\n",
        "\n",
        "  loss = loss.item() # Convert to Python Scalar\n",
        "  accuracy = accuracy.item() # Convert to Python Scalar\n",
        "\n",
        "  if i % 50 == 0:\n",
        "    print(\"[%d/%d]. Loss: %0.4f. Accuracy: %0.2f\" % (i, n_iters, loss, accuracy))\n",
        "\n",
        "model.eval()\n",
        "outputs = model(inputs)\n",
        "outputs = outputs.reshape(-1)\n",
        "predictions = (outputs > threshold).long()\n",
        "accuracy = (predictions == labels).float().mean() * 100.\n",
        "accuracy = accuracy.item()\n",
        "print(\"Final Accuracy: %0.2f\" % (accuracy))\n",
        "\n",
        "torch.save(model.state_dict(), \"%s_Network.pth\" % operator)\n",
        "  # model.load_state_dict(torch.load(\"%s_Network.pth\" % operator)) # Load model in the next time you use\n",
        "plt.plot(losses)"
      ]
    },
    {
      "cell_type": "markdown",
      "metadata": {
        "id": "IE5YlJ_I3NYg"
      },
      "source": [
        "## Digit Classification\n",
        "\n",
        "### Define Digit Classification Network"
      ]
    },
    {
      "cell_type": "code",
      "execution_count": null,
      "metadata": {
        "id": "CI2eUjVG0Ssz"
      },
      "outputs": [],
      "source": [
        "class DigitNetwork(nn.Module):\n",
        "  def __init__(self, hidden_dims = [128]):\n",
        "    super(DigitNetwork, self).__init__()\n",
        "    self.network_dims = [28 * 28] + hidden_dims + [10]\n",
        "    self.layers = []\n",
        "    for i, dim in enumerate(self.network_dims[1:]):\n",
        "      prev_dim = self.network_dims[i]\n",
        "      dense = nn.Linear(in_features = prev_dim, out_features = dim, bias = True)\n",
        "      if i < len(self.network_dims[1:]) - 1:\n",
        "        activation = nn.Sigmoid() # Hidden Layer\n",
        "      else:\n",
        "        activation = nn.Softmax(dim=1) # Last Layer\n",
        "      self.layers += [dense, activation]\n",
        "    self.layers = nn.ModuleList(self.layers)\n",
        "\n",
        "  def forward(self, x):\n",
        "    size = x.size()\n",
        "    x = x.reshape(size[0], -1) # Flatten images\n",
        "    for layer in self.layers[:-1]:\n",
        "      x = layer(x)\n",
        "    if self.training == False:\n",
        "      x = self.layers[-1](x)\n",
        "    return x"
      ]
    },
    {
      "cell_type": "markdown",
      "metadata": {
        "id": "_JTjiev9CK4K"
      },
      "source": [
        "### Define Data Generator"
      ]
    },
    {
      "cell_type": "code",
      "execution_count": null,
      "metadata": {
        "id": "FUnVAlP85SGs"
      },
      "outputs": [],
      "source": [
        "def create_data_generator(batch_size = 32, root = \"data\"):\n",
        "  train_dataset = torchvision.datasets.MNIST(root = root,\n",
        "                                             train = True,\n",
        "                                             transform = torchvision.transforms.ToTensor(),\n",
        "                                             download = True)\n",
        "  test_dataset = torchvision.datasets.MNIST(root = root,\n",
        "                                             train = False,\n",
        "                                             transform = torchvision.transforms.ToTensor(),\n",
        "                                             download = True)\n",
        "  train_loader = torch.utils.data.DataLoader(train_dataset,\n",
        "                                             batch_size = batch_size,\n",
        "                                             shuffle = True)\n",
        "  test_loader = torch.utils.data.DataLoader(test_dataset,\n",
        "                                             batch_size = batch_size,\n",
        "                                             shuffle = False)\n",
        "  return train_loader, test_loader"
      ]
    },
    {
      "cell_type": "markdown",
      "metadata": {
        "id": "9AZSB2N3CTFd"
      },
      "source": [
        "### Define the training framework"
      ]
    },
    {
      "cell_type": "code",
      "execution_count": null,
      "metadata": {
        "colab": {
          "base_uri": "https://localhost:8080/"
        },
        "id": "nDmnwaOT66-S",
        "outputId": "5e71357f-0843-4778-9144-3f957e0c16cc"
      },
      "outputs": [
        {
          "name": "stdout",
          "output_type": "stream",
          "text": [
            "Downloading http://yann.lecun.com/exdb/mnist/train-images-idx3-ubyte.gz\n",
            "Downloading http://yann.lecun.com/exdb/mnist/train-images-idx3-ubyte.gz to data/MNIST/raw/train-images-idx3-ubyte.gz\n"
          ]
        },
        {
          "name": "stderr",
          "output_type": "stream",
          "text": [
            "100%|██████████| 9912422/9912422 [00:00<00:00, 158455495.04it/s]"
          ]
        },
        {
          "name": "stdout",
          "output_type": "stream",
          "text": [
            "Extracting data/MNIST/raw/train-images-idx3-ubyte.gz to data/MNIST/raw\n"
          ]
        },
        {
          "name": "stderr",
          "output_type": "stream",
          "text": [
            "\n"
          ]
        },
        {
          "name": "stdout",
          "output_type": "stream",
          "text": [
            "\n",
            "Downloading http://yann.lecun.com/exdb/mnist/train-labels-idx1-ubyte.gz\n",
            "Downloading http://yann.lecun.com/exdb/mnist/train-labels-idx1-ubyte.gz to data/MNIST/raw/train-labels-idx1-ubyte.gz\n"
          ]
        },
        {
          "name": "stderr",
          "output_type": "stream",
          "text": [
            "100%|██████████| 28881/28881 [00:00<00:00, 115587494.11it/s]\n"
          ]
        },
        {
          "name": "stdout",
          "output_type": "stream",
          "text": [
            "Extracting data/MNIST/raw/train-labels-idx1-ubyte.gz to data/MNIST/raw\n",
            "\n",
            "Downloading http://yann.lecun.com/exdb/mnist/t10k-images-idx3-ubyte.gz\n",
            "Downloading http://yann.lecun.com/exdb/mnist/t10k-images-idx3-ubyte.gz to data/MNIST/raw/t10k-images-idx3-ubyte.gz\n"
          ]
        },
        {
          "name": "stderr",
          "output_type": "stream",
          "text": [
            "100%|██████████| 1648877/1648877 [00:00<00:00, 72323047.28it/s]"
          ]
        },
        {
          "name": "stdout",
          "output_type": "stream",
          "text": [
            "Extracting data/MNIST/raw/t10k-images-idx3-ubyte.gz to data/MNIST/raw\n",
            "\n",
            "Downloading http://yann.lecun.com/exdb/mnist/t10k-labels-idx1-ubyte.gz\n"
          ]
        },
        {
          "name": "stderr",
          "output_type": "stream",
          "text": [
            "\n"
          ]
        },
        {
          "name": "stdout",
          "output_type": "stream",
          "text": [
            "Downloading http://yann.lecun.com/exdb/mnist/t10k-labels-idx1-ubyte.gz to data/MNIST/raw/t10k-labels-idx1-ubyte.gz\n"
          ]
        },
        {
          "name": "stderr",
          "output_type": "stream",
          "text": [
            "100%|██████████| 4542/4542 [00:00<00:00, 22571716.55it/s]\n"
          ]
        },
        {
          "name": "stdout",
          "output_type": "stream",
          "text": [
            "Extracting data/MNIST/raw/t10k-labels-idx1-ubyte.gz to data/MNIST/raw\n",
            "\n",
            "DigitNetwork(\n",
            "  (layers): ModuleList(\n",
            "    (0): Linear(in_features=784, out_features=10, bias=True)\n",
            "    (1): Softmax(dim=1)\n",
            "  )\n",
            ")\n",
            "Epoch [1/1]. Iter [1/1875]. Loss: 2.28. Accuracy: 6.25\n",
            "Epoch [1/1]. Iter [101/1875]. Loss: 0.09. Accuracy: 100.00\n",
            "Epoch [1/1]. Iter [201/1875]. Loss: 0.23. Accuracy: 93.75\n",
            "Epoch [1/1]. Iter [301/1875]. Loss: 0.22. Accuracy: 93.75\n",
            "Epoch [1/1]. Iter [401/1875]. Loss: 0.16. Accuracy: 87.50\n",
            "Epoch [1/1]. Iter [501/1875]. Loss: 0.69. Accuracy: 78.12\n",
            "Epoch [1/1]. Iter [601/1875]. Loss: 0.39. Accuracy: 90.62\n",
            "Epoch [1/1]. Iter [701/1875]. Loss: 0.50. Accuracy: 87.50\n",
            "Epoch [1/1]. Iter [801/1875]. Loss: 0.32. Accuracy: 87.50\n",
            "Epoch [1/1]. Iter [901/1875]. Loss: 0.36. Accuracy: 84.38\n",
            "Epoch [1/1]. Iter [1001/1875]. Loss: 0.37. Accuracy: 93.75\n",
            "Epoch [1/1]. Iter [1101/1875]. Loss: 0.48. Accuracy: 87.50\n",
            "Epoch [1/1]. Iter [1201/1875]. Loss: 0.75. Accuracy: 87.50\n",
            "Epoch [1/1]. Iter [1301/1875]. Loss: 0.43. Accuracy: 87.50\n",
            "Epoch [1/1]. Iter [1401/1875]. Loss: 0.37. Accuracy: 90.62\n",
            "Epoch [1/1]. Iter [1501/1875]. Loss: 0.35. Accuracy: 90.62\n",
            "Epoch [1/1]. Iter [1601/1875]. Loss: 0.55. Accuracy: 81.25\n",
            "Epoch [1/1]. Iter [1701/1875]. Loss: 0.32. Accuracy: 93.75\n",
            "Epoch [1/1]. Iter [1801/1875]. Loss: 0.23. Accuracy: 90.62\n"
          ]
        }
      ],
      "source": [
        "cuda = torch.cuda.is_available()\n",
        "batch_size = 32\n",
        "train_loader, test_loader = create_data_generator(batch_size)\n",
        "model = DigitNetwork(hidden_dims=[])\n",
        "print(model)\n",
        "if cuda:\n",
        "  model.cuda()\n",
        "n_epochs = 1\n",
        "learning_rate = 0.1\n",
        "optim = torch.optim.SGD(params = model.parameters(), lr = learning_rate, momentum=0.9)\n",
        "loss_fn = nn.CrossEntropyLoss()\n",
        "\n",
        "model.train()\n",
        "for epoch in range(1, n_epochs + 1):\n",
        "  for idx, (images, labels) in enumerate(train_loader):\n",
        "    if cuda:\n",
        "      images = images.cuda()\n",
        "      labels = labels.cuda()\n",
        "\n",
        "    outputs = model(images)\n",
        "\n",
        "    loss = loss_fn(outputs, labels)\n",
        "\n",
        "    optim.zero_grad()\n",
        "    loss.backward()\n",
        "    optim.step()\n",
        "\n",
        "    predictions = torch.argmax(outputs, 1)\n",
        "    accuracy = (predictions == labels).float().mean() * 100.\n",
        "\n",
        "    loss = loss.item() # Convert to Python Scalar\n",
        "    accuracy = accuracy.item() # Convert to Python Scalar\n",
        "\n",
        "    if idx % 100 == 0:\n",
        "      print(\"Epoch [%d/%d]. Iter [%d/%d]. Loss: %0.2f. Accuracy: %0.2f\" % (epoch, n_epochs, idx + 1, len(train_loader), loss, accuracy))\n",
        "\n",
        "torch.save(model.state_dict(), \"MNIST_Network.pth\")"
      ]
    },
    {
      "cell_type": "markdown",
      "metadata": {
        "id": "3_nZTwv1CbGl"
      },
      "source": [
        "### Define the evaluation framework"
      ]
    },
    {
      "cell_type": "code",
      "execution_count": null,
      "metadata": {
        "colab": {
          "base_uri": "https://localhost:8080/"
        },
        "id": "GLbEk4QZ6_4K",
        "outputId": "60855dec-47cd-4490-88a6-f83385b4bdbf"
      },
      "outputs": [
        {
          "name": "stdout",
          "output_type": "stream",
          "text": [
            "Iter [1/10000]. Accuracy: 100.00\n",
            "Iter [2001/10000]. Accuracy: 100.00\n",
            "Iter [4001/10000]. Accuracy: 0.00\n",
            "Iter [6001/10000]. Accuracy: 100.00\n",
            "Iter [8001/10000]. Accuracy: 100.00\n",
            "Final Accuracy: 90.94\n"
          ]
        }
      ],
      "source": [
        "cuda = torch.cuda.is_available()\n",
        "batch_size = 1\n",
        "train_loader, test_loader = create_data_generator(batch_size)\n",
        "model = DigitNetwork(hidden_dims=[])\n",
        "if cuda:\n",
        "  model.cuda()\n",
        "model.eval()\n",
        "model.load_state_dict(torch.load(\"MNIST_Network.pth\"))\n",
        "\n",
        "total_accuracy = 0.0\n",
        "for idx, (images, labels) in enumerate(test_loader):\n",
        "  if cuda:\n",
        "    images = images.cuda()\n",
        "    labels = labels.cuda()\n",
        "\n",
        "  outputs = model(images)\n",
        "\n",
        "  predictions = torch.argmax(outputs, 1)\n",
        "  accuracy = (predictions == labels).float().mean() * 100.\n",
        "\n",
        "  accuracy = accuracy.item() # Convert to Python Scalar\n",
        "\n",
        "  total_accuracy += accuracy\n",
        "\n",
        "  if idx % 2000 == 0:\n",
        "    print(\"Iter [%d/%d]. Accuracy: %0.2f\" % (idx + 1, len(test_loader), accuracy))\n",
        "\n",
        "print(\"Final Accuracy: %0.2f\" % (total_accuracy / len(test_loader)))"
      ]
    },
    {
      "cell_type": "markdown",
      "metadata": {
        "id": "Wmpi69Q-bzDj"
      },
      "source": [
        "## Backpropagation\n",
        "\n",
        "### ReLU Example"
      ]
    },
    {
      "cell_type": "code",
      "execution_count": null,
      "metadata": {
        "id": "EWoO_sciAqDa"
      },
      "outputs": [],
      "source": [
        "# https://pytorch.org/tutorials/beginner/pytorch_with_examples.html#pytorch-defining-new-autograd-functions\n",
        "class MyReLU(torch.autograd.Function):\n",
        "    \"\"\"\n",
        "    We can implement our own custom autograd Functions by subclassing\n",
        "    torch.autograd.Function and implementing the forward and backward passes\n",
        "    which operate on Tensors.\n",
        "    \"\"\"\n",
        "\n",
        "    @staticmethod\n",
        "    def forward(ctx, input):\n",
        "        \"\"\"\n",
        "        In the forward pass we receive a Tensor containing the input and return\n",
        "        a Tensor containing the output. ctx is a context object that can be used\n",
        "        to stash information for backward computation. You can cache arbitrary\n",
        "        objects for use in the backward pass using the ctx.save_for_backward method.\n",
        "        \"\"\"\n",
        "        ctx.save_for_backward(input)\n",
        "        return input.clamp(min=0)\n",
        "\n",
        "    @staticmethod\n",
        "    def backward(ctx, grad_output):\n",
        "        \"\"\"\n",
        "        In the backward pass we receive a Tensor containing the gradient of the loss\n",
        "        with respect to the output, and we need to compute the gradient of the loss\n",
        "        with respect to the input.\n",
        "        \"\"\"\n",
        "        input, = ctx.saved_tensors\n",
        "        grad_input = grad_output.clone()\n",
        "        grad_input[input < 0] = 0\n",
        "        return grad_input"
      ]
    },
    {
      "cell_type": "markdown",
      "metadata": {
        "id": "2sJY_Gnvb7wP"
      },
      "source": [
        "#### Sigmoid Function\n"
      ]
    },
    {
      "cell_type": "code",
      "execution_count": null,
      "metadata": {
        "id": "bj3ac-EVRvMz"
      },
      "outputs": [],
      "source": [
        "class MySigmoid(torch.autograd.Function):\n",
        "    \"\"\"\n",
        "    We can implement our own custom autograd Functions by subclassing\n",
        "    torch.autograd.Function and implementing the forward and backward passes\n",
        "    which operate on Tensors.\n",
        "    \"\"\"\n",
        "\n",
        "    @staticmethod\n",
        "    def forward(ctx, input):\n",
        "        # input is a N x C tensor, N is the batch size, C is the dimension of input\n",
        "        ctx.save_for_backward(input)\n",
        "        # YOUR CODE HERE\n",
        "        # return output of sigmoid function\n",
        "\n",
        "    @staticmethod\n",
        "    def backward(ctx, grad_output):\n",
        "        input, = ctx.saved_tensors\n",
        "        # YOUR CODE HERE\n",
        "        # return grad_input"
      ]
    },
    {
      "cell_type": "markdown",
      "metadata": {
        "id": "VgjRo-W1b_CD"
      },
      "source": [
        "#### Fully Connected Layer"
      ]
    },
    {
      "cell_type": "code",
      "execution_count": null,
      "metadata": {
        "id": "iyxyWGNaXvG_"
      },
      "outputs": [],
      "source": [
        "class MyLinearFunction(torch.autograd.Function):\n",
        "    \"\"\"\n",
        "    We can implement our own custom autograd Functions by subclassing\n",
        "    torch.autograd.Function and implementing the forward and backward passes\n",
        "    which operate on Tensors.\n",
        "    \"\"\"\n",
        "\n",
        "    @staticmethod\n",
        "    def forward(ctx, input, weights, bias):\n",
        "        # input is a N x C tensor, N is the batch size, C is the dimension of input\n",
        "        # weights is a C x D tensor, C and D are the dimension out input and ouput\n",
        "        # bias is D tensor\n",
        "        ctx.save_for_backward(input, weights, bias)\n",
        "        # YOUR CODE HERE\n",
        "        # return output of linear function\n",
        "        return torch.matmul(input, weights) + bias\n",
        "\n",
        "\n",
        "    @staticmethod\n",
        "    def backward(ctx, grad_output):\n",
        "        input, weights, bias = ctx.saved_tensors\n",
        "        # YOUR CODE HERE\n",
        "        # return grad_input, grad_weights, grad_bias\n",
        "\n",
        "class MyLinearLayer(nn.Module):\n",
        "  # You don't modify this layer\n",
        "  def __init__(self, in_features = 2, out_features = 4):\n",
        "    super(MyLinearLayer, self).__init__()\n",
        "    self.weights = nn.Parameter(torch.randn(in_features, out_features))\n",
        "    self.bias = nn.Parameter(torch.zeros(out_features))\n",
        "    self.linear_fn = MyLinearFunction.apply\n",
        "\n",
        "  def forward(self, input):\n",
        "    return self.linear_fn(input, self.weights, self.bias)\n"
      ]
    },
    {
      "cell_type": "markdown",
      "metadata": {
        "id": "AUjXs20ecGBG"
      },
      "source": [
        "#### Testing Your Implementation"
      ]
    },
    {
      "cell_type": "code",
      "execution_count": null,
      "metadata": {
        "id": "95fQHamjZMX1"
      },
      "outputs": [],
      "source": [
        "class MyLinearNetwork(nn.Module):\n",
        "  def __init__(self):\n",
        "    super(MyLinearNetwork, self).__init__()\n",
        "    self.linear_1 = MyLinearLayer(28 * 28, 128)\n",
        "    self.sigmoid_fn = MySigmoid.apply\n",
        "    self.linear_2 = MyLinearLayer(128, 10)\n",
        "    self.softmax_fn = nn.Softmax(dim=1)\n",
        "\n",
        "  def forward(self, x):\n",
        "    size = x.size()\n",
        "    x = x.reshape(size[0], -1) # Flatten images\n",
        "    x = self.linear_1(x)\n",
        "    x = self.sigmoid_fn(x)\n",
        "    x = self.linear_2(x)\n",
        "    if self.training == False:\n",
        "      x = self.softmax_fn(x)\n",
        "    return x"
      ]
    },
    {
      "cell_type": "code",
      "execution_count": null,
      "metadata": {
        "id": "h-PND4sBcwgM"
      },
      "outputs": [],
      "source": [
        "cuda = torch.cuda.is_available()\n",
        "batch_size = 32\n",
        "train_loader, test_loader = create_data_generator(batch_size)\n",
        "model = MyLinearNetwork()\n",
        "print(model)\n",
        "if cuda:\n",
        "  model.cuda()\n",
        "n_epochs = 3\n",
        "learning_rate = 0.1\n",
        "optim = torch.optim.SGD(params = model.parameters(), lr = learning_rate, momentum=0.9)\n",
        "loss_fn = nn.CrossEntropyLoss()\n",
        "\n",
        "model.train()\n",
        "for epoch in range(1, n_epochs + 1):\n",
        "  for idx, (images, labels) in enumerate(train_loader):\n",
        "    if cuda:\n",
        "      images = images.cuda()\n",
        "      labels = labels.cuda()\n",
        "\n",
        "    outputs = model(images)\n",
        "\n",
        "    loss = loss_fn(outputs, labels)\n",
        "\n",
        "    optim.zero_grad()\n",
        "    loss.backward()\n",
        "    optim.step()\n",
        "\n",
        "    predictions = torch.argmax(outputs, 1)\n",
        "    accuracy = (predictions == labels).float().mean() * 100.\n",
        "\n",
        "    loss = loss.item() # Convert to Python Scalar\n",
        "    accuracy = accuracy.item() # Convert to Python Scalar\n",
        "\n",
        "    if idx % 100 == 0:\n",
        "      print(\"Epoch [%d/%d]. Iter [%d/%d]. Loss: %0.2f. Accuracy: %0.2f\" % (epoch, n_epochs, idx + 1, len(train_loader), loss, accuracy))\n",
        "\n",
        "total_accuracy = 0.0\n",
        "model.eval()\n",
        "for idx, (images, labels) in enumerate(test_loader):\n",
        "  if cuda:\n",
        "    images = images.cuda()\n",
        "    labels = labels.cuda()\n",
        "\n",
        "  outputs = model(images)\n",
        "\n",
        "  predictions = torch.argmax(outputs, 1)\n",
        "  accuracy = (predictions == labels).float().mean() * 100.\n",
        "\n",
        "  accuracy = accuracy.item() # Convert to Python Scalar\n",
        "\n",
        "  total_accuracy += accuracy\n",
        "\n",
        "  if idx % 2000 == 0:\n",
        "    print(\"Iter [%d/%d]. Accuracy: %0.2f\" % (idx + 1, len(test_loader), accuracy))\n",
        "\n",
        "print(\"Final Accuracy: %0.2f\" % (total_accuracy / len(test_loader)))"
      ]
    },
    {
      "cell_type": "code",
      "execution_count": null,
      "metadata": {
        "id": "QP5Vc_zriFmK"
      },
      "outputs": [],
      "source": []
    }
  ],
  "metadata": {
    "accelerator": "GPU",
    "colab": {
      "provenance": [],
      "collapsed_sections": [
        "IE5YlJ_I3NYg",
        "Wmpi69Q-bzDj"
      ],
      "include_colab_link": true
    },
    "kernelspec": {
      "display_name": "Python 3",
      "name": "python3"
    }
  },
  "nbformat": 4,
  "nbformat_minor": 0
}